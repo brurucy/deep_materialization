{
 "cells": [
  {
   "cell_type": "markdown",
   "metadata": {
    "collapsed": true,
    "pycharm": {
     "name": "#%% md\n"
    }
   },
   "source": [
    "## Materialization 101\n",
    "\n",
    "In this notebook we will attempt to _materialize_ an RDFS graph with deep learning.\n",
    "\n",
    "An RDFS graph is a multigraph, that is, a collection of nodes with edges and labels, out of which there could be multiple outgoing edges from a single node, that has a specific _semantics_.\n",
    "\n",
    "In order to understand the semantics of RDFS, we ought to first have a look at how the data really looks like.\n",
    "\n",
    "Data-format wise, it is usually stored with the file extension `.nt` in a very simple format: one triple per line.\n",
    "\n",
    "There are two parts of an RDFS graph.\n",
    "\n",
    "The first is the _TBOX_, the ontology, that is, the set of nodes that encodes the hierarchy of the graph:\n",
    "\n",
    "```\n",
    "(employee, rdf:type, Class)\n",
    "(faculty, rdfs:subClassOf, employee)\n",
    "(professor, rdfs:subClassOf, faculty)\n",
    "(teaches, rdf:type, rdf:Property)\n",
    "(lectures, rdfs:subPropertyOf, teaches)\n",
    "(teaches, rdfs:domain, professor)\n",
    "(course, rdf:type, Class)\n",
    "(teaches, rdfs:range, course)\n",
    "```\n",
    "\n",
    "In this exemplary graph, we define that *employee* is a _Class_, *faculty* is a _type_ of *employee*, *professor* is a _subClass_ of *faculty*, *teaches* is a _type_ of _property_, *lectures* is a _subProperty_ of *teaches*, and that *teaches* is in the _domain_ of *professor*, alongside with *course*, a _Class_, is in the _range_ of *teaches*.\n",
    "\n",
    "Next up we have the _ABOX_, which is where we will make assertions about individuals with the rules we've defined on the _TBOX_.\n",
    "\n",
    "```\n",
    "(professor1, lectures, course1)\n",
    "```\n",
    "\n",
    "Now we can talk about materialization.\n",
    "\n",
    "RDFS has a set of _entailment_ rules which dictate its _semantics_.\n",
    "\n",
    "Here are they(the ones that matter, for now):\n",
    "\n",
    "```\n",
    ":A(?y, rdf:type, ?x) :- :T(?a, rdfs:domain, ?x), :A(?y, ?a, ?z) . // 1\n",
    ":A(?z, rdf:type, ?x) :- :T(?a, rdfs:range, ?x), :A(?y, ?a, ?z) . // 2\n",
    ":T(?x, rdfs:subPropertyOf, ?z) :- :T(?x, rdfs:subPropertyOf, ?y), :T(?y, rdfs:subPropertyOf, ?z) . // 3\n",
    ":T(?x, rdfs:subClassOf, ?z) :- :T(?x, rdfs:subClassOf, ?y), :T(?y, rdfs:subClassOf, ?z) . // 4\n",
    ":A(?x, ?b, ?y) :- :T(?a, rdfs:subPropertyOf, ?b), :A(?x, ?a, ?y) . // 5\n",
    ":A(?z, rdf:type, ?y) :- :T(?x, rdfs:subClassOf, ?y), :A(?z, rdf:type, ?x) . // 6\n",
    "```\n",
    "\n",
    "The way to read a rule is quite straightforward.\n",
    "\n",
    "For instance, `:T(?x, rdfs:subClassOf, ?z) :- :T(?x, rdfs:subClassOf, ?y), :T(?y, rdfs:subClassOf, ?z) .` is spelled as: If the tbox triples (?x, rdfs:subClassOf, ?y)\n",
    "and (?y, rdfs:subClassOf, ?z) exist in the tbox, then (?x, subClassOf, ?z) *must* exist in the tbox as well.\n",
    "\n",
    "To _materialize_ an RDFS graph, means adding all triples which *must* exist.\n",
    "\n",
    "For instance, materializing the given _TBOX_ yields the following triples to be added:\n",
    "\n",
    "```\n",
    "(faculty, rdfs:type, Class)\n",
    "(professor, rdf:type, Class)\n",
    "(professor, rdfs:subClassOf, employee)\n",
    "(lectures, rdf:type, rdf:Property)\n",
    "```\n",
    "\n",
    "And now for the _ABOX_, we get:\n",
    "\n",
    "```\n",
    "(professor1, rdf:type, professor)\n",
    "(course1, rdf:type, course)\n",
    "(professor1, teaches, course1)\n",
    "(professor1, rdf:type, faculty)\n",
    "(professor1, rdf:type, employee)\n",
    "```\n",
    "\n",
    "As it can be seen, there are is no more *knowledge* that can be inferred.\n",
    "\n",
    "## Experiments\n",
    "\n",
    "We have 6 files under the folder `data`.\n",
    "\n",
    "`tiny_tbox.nt/ntenc` and `tiny_abox.nt/ntenc` are a small tbox and abox whose materialization could be verified by hand. the files with `ntenc` extension\n",
    "are the same as those with `nt`, except they are encoded with integers, taking far less space. This is something to keep in mind when dealing with large amounts of data.\n",
    "\n",
    "`real_abox.nt` and `real_tbox.nt` are actual data that are used to benchmark materialization engines, hence, we could fit the same data, after materialization, into other\n",
    " reasoners in order to verify that what we are doing is correct."
   ]
  },
  {
   "cell_type": "code",
   "execution_count": 1,
   "outputs": [],
   "source": [
    "from triple_loader import *\n",
    "import pandas as pd"
   ],
   "metadata": {
    "collapsed": false,
    "pycharm": {
     "name": "#%%\n"
    }
   }
  },
  {
   "cell_type": "code",
   "source": [
    "raw_real_tbox = read_triples(\"./data/real_tbox.nt\")\n",
    "raw_real_abox = read_triples(\"./data/real_abox.nt\")\n",
    "\n",
    "tbox = pd.DataFrame(data=raw_real_tbox, columns=['s', 'p', 'o'])\n",
    "abox = pd.DataFrame(data=raw_real_abox, columns=['s', 'p', 'o'])"
   ],
   "metadata": {
    "collapsed": false,
    "pycharm": {
     "name": "#%%\n"
    }
   },
   "execution_count": 2,
   "outputs": []
  },
  {
   "cell_type": "code",
   "execution_count": 3,
   "outputs": [
    {
     "data": {
      "text/plain": "                                                   s  \\\n0  <http://www.lehigh.edu/~zhp2/2004/0401/univ-be...   \n1  <http://www.lehigh.edu/~zhp2/2004/0401/univ-be...   \n2  <http://www.lehigh.edu/~zhp2/2004/0401/univ-be...   \n3  <http://www.lehigh.edu/~zhp2/2004/0401/univ-be...   \n4  <http://www.lehigh.edu/~zhp2/2004/0401/univ-be...   \n5  <http://www.lehigh.edu/~zhp2/2004/0401/univ-be...   \n6  <http://www.lehigh.edu/~zhp2/2004/0401/univ-be...   \n7  <http://www.lehigh.edu/~zhp2/2004/0401/univ-be...   \n8  <http://www.lehigh.edu/~zhp2/2004/0401/univ-be...   \n9  <http://www.lehigh.edu/~zhp2/2004/0401/univ-be...   \n\n                                                   p  \\\n0  <http://www.w3.org/1999/02/22-rdf-syntax-ns#type>   \n1     <http://www.w3.org/2000/01/rdf-schema#comment>   \n2       <http://www.w3.org/2000/01/rdf-schema#label>   \n3        <http://www.w3.org/2002/07/owl#versionInfo>   \n4  <http://www.w3.org/1999/02/22-rdf-syntax-ns#type>   \n5       <http://www.w3.org/2000/01/rdf-schema#label>   \n6  <http://www.w3.org/2000/01/rdf-schema#subClassOf>   \n7  <http://www.w3.org/1999/02/22-rdf-syntax-ns#type>   \n8       <http://www.w3.org/2000/01/rdf-schema#label>   \n9  <http://www.w3.org/2000/01/rdf-schema#subClassOf>   \n\n                                                   o  \n0           <http://www.w3.org/2002/07/owl#Ontology>  \n1         An university ontology for benchmark tests  \n2                                Univ-bench Ontology  \n3         univ-bench-ontology-owl, ver April 1, 2004  \n4              <http://www.w3.org/2002/07/owl#Class>  \n5                        administrative staff worker  \n6  <http://www.lehigh.edu/~zhp2/2004/0401/univ-be...  \n7              <http://www.w3.org/2002/07/owl#Class>  \n8                                            article  \n9  <http://www.lehigh.edu/~zhp2/2004/0401/univ-be...  ",
      "text/html": "<div>\n<style scoped>\n    .dataframe tbody tr th:only-of-type {\n        vertical-align: middle;\n    }\n\n    .dataframe tbody tr th {\n        vertical-align: top;\n    }\n\n    .dataframe thead th {\n        text-align: right;\n    }\n</style>\n<table border=\"1\" class=\"dataframe\">\n  <thead>\n    <tr style=\"text-align: right;\">\n      <th></th>\n      <th>s</th>\n      <th>p</th>\n      <th>o</th>\n    </tr>\n  </thead>\n  <tbody>\n    <tr>\n      <th>0</th>\n      <td>&lt;http://www.lehigh.edu/~zhp2/2004/0401/univ-be...</td>\n      <td>&lt;http://www.w3.org/1999/02/22-rdf-syntax-ns#type&gt;</td>\n      <td>&lt;http://www.w3.org/2002/07/owl#Ontology&gt;</td>\n    </tr>\n    <tr>\n      <th>1</th>\n      <td>&lt;http://www.lehigh.edu/~zhp2/2004/0401/univ-be...</td>\n      <td>&lt;http://www.w3.org/2000/01/rdf-schema#comment&gt;</td>\n      <td>An university ontology for benchmark tests</td>\n    </tr>\n    <tr>\n      <th>2</th>\n      <td>&lt;http://www.lehigh.edu/~zhp2/2004/0401/univ-be...</td>\n      <td>&lt;http://www.w3.org/2000/01/rdf-schema#label&gt;</td>\n      <td>Univ-bench Ontology</td>\n    </tr>\n    <tr>\n      <th>3</th>\n      <td>&lt;http://www.lehigh.edu/~zhp2/2004/0401/univ-be...</td>\n      <td>&lt;http://www.w3.org/2002/07/owl#versionInfo&gt;</td>\n      <td>univ-bench-ontology-owl, ver April 1, 2004</td>\n    </tr>\n    <tr>\n      <th>4</th>\n      <td>&lt;http://www.lehigh.edu/~zhp2/2004/0401/univ-be...</td>\n      <td>&lt;http://www.w3.org/1999/02/22-rdf-syntax-ns#type&gt;</td>\n      <td>&lt;http://www.w3.org/2002/07/owl#Class&gt;</td>\n    </tr>\n    <tr>\n      <th>5</th>\n      <td>&lt;http://www.lehigh.edu/~zhp2/2004/0401/univ-be...</td>\n      <td>&lt;http://www.w3.org/2000/01/rdf-schema#label&gt;</td>\n      <td>administrative staff worker</td>\n    </tr>\n    <tr>\n      <th>6</th>\n      <td>&lt;http://www.lehigh.edu/~zhp2/2004/0401/univ-be...</td>\n      <td>&lt;http://www.w3.org/2000/01/rdf-schema#subClassOf&gt;</td>\n      <td>&lt;http://www.lehigh.edu/~zhp2/2004/0401/univ-be...</td>\n    </tr>\n    <tr>\n      <th>7</th>\n      <td>&lt;http://www.lehigh.edu/~zhp2/2004/0401/univ-be...</td>\n      <td>&lt;http://www.w3.org/1999/02/22-rdf-syntax-ns#type&gt;</td>\n      <td>&lt;http://www.w3.org/2002/07/owl#Class&gt;</td>\n    </tr>\n    <tr>\n      <th>8</th>\n      <td>&lt;http://www.lehigh.edu/~zhp2/2004/0401/univ-be...</td>\n      <td>&lt;http://www.w3.org/2000/01/rdf-schema#label&gt;</td>\n      <td>article</td>\n    </tr>\n    <tr>\n      <th>9</th>\n      <td>&lt;http://www.lehigh.edu/~zhp2/2004/0401/univ-be...</td>\n      <td>&lt;http://www.w3.org/2000/01/rdf-schema#subClassOf&gt;</td>\n      <td>&lt;http://www.lehigh.edu/~zhp2/2004/0401/univ-be...</td>\n    </tr>\n  </tbody>\n</table>\n</div>"
     },
     "execution_count": 3,
     "metadata": {},
     "output_type": "execute_result"
    }
   ],
   "source": [
    "tbox.head(10)"
   ],
   "metadata": {
    "collapsed": false,
    "pycharm": {
     "name": "#%%\n"
    }
   }
  },
  {
   "cell_type": "code",
   "execution_count": null,
   "outputs": [],
   "source": [],
   "metadata": {
    "collapsed": false,
    "pycharm": {
     "name": "#%%\n"
    }
   }
  }
 ],
 "metadata": {
  "kernelspec": {
   "display_name": "Python 3",
   "language": "python",
   "name": "python3"
  },
  "language_info": {
   "codemirror_mode": {
    "name": "ipython",
    "version": 2
   },
   "file_extension": ".py",
   "mimetype": "text/x-python",
   "name": "python",
   "nbconvert_exporter": "python",
   "pygments_lexer": "ipython2",
   "version": "2.7.6"
  }
 },
 "nbformat": 4,
 "nbformat_minor": 0
}